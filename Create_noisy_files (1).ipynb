{
  "nbformat": 4,
  "nbformat_minor": 0,
  "metadata": {
    "colab": {
      "provenance": []
    },
    "kernelspec": {
      "name": "python3",
      "display_name": "Python 3"
    },
    "language_info": {
      "name": "python"
    }
  },
  "cells": [
    {
      "cell_type": "code",
      "source": [
        "!pip3 install pydub"
      ],
      "metadata": {
        "colab": {
          "base_uri": "https://localhost:8080/"
        },
        "id": "CuVPPDv1nKhC",
        "outputId": "d5f7921d-fe09-465e-c491-bd3de5fab47a"
      },
      "execution_count": 3,
      "outputs": [
        {
          "output_type": "stream",
          "name": "stdout",
          "text": [
            "Collecting pydub\n",
            "  Downloading pydub-0.25.1-py2.py3-none-any.whl.metadata (1.4 kB)\n",
            "Downloading pydub-0.25.1-py2.py3-none-any.whl (32 kB)\n",
            "Installing collected packages: pydub\n",
            "Successfully installed pydub-0.25.1\n"
          ]
        }
      ]
    },
    {
      "cell_type": "code",
      "source": [
        "import random\n",
        "from scipy.io.wavfile import write\n",
        "from google.colab import files\n",
        "import librosa\n",
        "import math\n",
        "import shutil\n",
        "import os\n",
        "from google.colab import files"
      ],
      "metadata": {
        "id": "KkzH_HUpnMG0"
      },
      "execution_count": 51,
      "outputs": []
    },
    {
      "cell_type": "code",
      "source": [
        "from pydub import AudioSegment"
      ],
      "metadata": {
        "id": "7Bd1pnAanG2q"
      },
      "execution_count": 5,
      "outputs": []
    },
    {
      "cell_type": "code",
      "execution_count": 91,
      "metadata": {
        "id": "RwXc2_YdkuVe"
      },
      "outputs": [],
      "source": [
        "######## AUTOMATED FOR MANY DB LEVELS\n",
        "def add_noise_multifiles(folder_path):\n",
        "  # Change audio2 accordingly\n",
        "  audio2 = AudioSegment.from_file(\"dogs-barking-sound-effect_audio_low.wav\")# babble noise\n",
        "  #search_directory = '/content'\n",
        "  target_directory = '/content/files_to_download'\n",
        "  zip_filename = '/content/files_to_download.zip'\n",
        "\n",
        "  if not os.path.exists(target_directory):\n",
        "      os.makedirs(target_directory)\n",
        "\n",
        "\n",
        "  for file_name in os.listdir(folder_path):\n",
        "    if file_name.endswith('.wav'):\n",
        "        full_file_name = os.path.join(folder_path, file_name)\n",
        "        print(\"Combining:\")\n",
        "        print(file_name)\n",
        "        audio1_name = full_file_name\n",
        "\n",
        "        audio1 = AudioSegment.from_file(audio1_name)##clean file\n",
        "        one_sec = AudioSegment.silent(duration=1000)\n",
        "        audio1 = audio1 + one_sec\n",
        "        # for different results seed needs to be off\n",
        "        # random.seed(42)\n",
        "\n",
        "        ordering = 96\n",
        "        # i represents db levels, iterating through\n",
        "        for i in range(-20,11,2):\n",
        "\n",
        "          db =i\n",
        "          # j represents noise levels\n",
        "          for j in range(0,1):\n",
        "            audio2_new = audio2 + db\n",
        "            clip_duration = min(len(audio1), len(audio2_new))\n",
        "            # print(f\"lenght of clean audio {len(audio1)}, length of music {len(audio2_new)}\")\n",
        "            # Randomly select starting points for the clips\n",
        "            start_point_audio1 = random.randint(0, len(audio1) - clip_duration)\n",
        "            start_point_audio2 = random.randint(0, len(audio2_new) - clip_duration)\n",
        "\n",
        "            cropped_audio1 = audio1[start_point_audio1:start_point_audio1 + clip_duration]\n",
        "            cropped_audio2 = audio2_new[start_point_audio2:start_point_audio2 + clip_duration]\n",
        "            mixed_audio = cropped_audio1.overlay(cropped_audio2)\n",
        "            mixed_audio = mixed_audio.set_sample_width(2)\n",
        "            #mixed_audio.export(f\"{file_name[:-4]}_mixed16k_{i}db_{j}.wav\", format=\"wav\", parameters=[\"-ar\", \"16000\"])#original mixed audio @ 16000Hz\n",
        "            #only one audio so removing j name\n",
        "            if i<-9:\n",
        "              ordering += 1\n",
        "              mixed_audio.export(f\"/content/files_to_download/{file_name[:-4]}_mixed16k_N{chr(ordering)}{abs(i)}db.wav\", format=\"wav\", parameters=[\"-ar\", \"16000\"])\n",
        "            elif i<0:\n",
        "              ordering += 1\n",
        "              mixed_audio.export(f\"/content/files_to_download/{file_name[:-4]}_mixed16k_N{chr(ordering)}0{abs(i)}db.wav\", format=\"wav\", parameters=[\"-ar\", \"16000\"])\n",
        "            elif i<10:\n",
        "              mixed_audio.export(f\"/content/files_to_download/{file_name[:-4]}_mixed16k_P0{i}db.wav\", format=\"wav\", parameters=[\"-ar\", \"16000\"])\n",
        "            else:\n",
        "              mixed_audio.export(f\"/content/files_to_download/{file_name[:-4]}_mixed16k_P{i}db.wav\", format=\"wav\", parameters=[\"-ar\", \"16000\"])\n",
        "\n",
        "    # Step 4: Create a zip file containing the files in the target directory\n",
        "    shutil.make_archive(target_directory, 'zip', target_directory)\n",
        "\n",
        "    # Step 5: Download the zip file\n",
        "    files.download(zip_filename)\n",
        "  return\n"
      ]
    },
    {
      "cell_type": "code",
      "source": [
        "added_noises = add_noise_multifiles('/content/wav_files_to_adjust')"
      ],
      "metadata": {
        "colab": {
          "base_uri": "https://localhost:8080/",
          "height": 53
        },
        "id": "9lg4YdUUl1uu",
        "outputId": "33528f59-3a88-4285-e162-5f10522da359"
      },
      "execution_count": 93,
      "outputs": [
        {
          "output_type": "display_data",
          "data": {
            "text/plain": [
              "<IPython.core.display.Javascript object>"
            ],
            "application/javascript": [
              "\n",
              "    async function download(id, filename, size) {\n",
              "      if (!google.colab.kernel.accessAllowed) {\n",
              "        return;\n",
              "      }\n",
              "      const div = document.createElement('div');\n",
              "      const label = document.createElement('label');\n",
              "      label.textContent = `Downloading \"${filename}\": `;\n",
              "      div.appendChild(label);\n",
              "      const progress = document.createElement('progress');\n",
              "      progress.max = size;\n",
              "      div.appendChild(progress);\n",
              "      document.body.appendChild(div);\n",
              "\n",
              "      const buffers = [];\n",
              "      let downloaded = 0;\n",
              "\n",
              "      const channel = await google.colab.kernel.comms.open(id);\n",
              "      // Send a message to notify the kernel that we're ready.\n",
              "      channel.send({})\n",
              "\n",
              "      for await (const message of channel.messages) {\n",
              "        // Send a message to notify the kernel that we're ready.\n",
              "        channel.send({})\n",
              "        if (message.buffers) {\n",
              "          for (const buffer of message.buffers) {\n",
              "            buffers.push(buffer);\n",
              "            downloaded += buffer.byteLength;\n",
              "            progress.value = downloaded;\n",
              "          }\n",
              "        }\n",
              "      }\n",
              "      const blob = new Blob(buffers, {type: 'application/binary'});\n",
              "      const a = document.createElement('a');\n",
              "      a.href = window.URL.createObjectURL(blob);\n",
              "      a.download = filename;\n",
              "      div.appendChild(a);\n",
              "      a.click();\n",
              "      div.remove();\n",
              "    }\n",
              "  "
            ]
          },
          "metadata": {}
        },
        {
          "output_type": "display_data",
          "data": {
            "text/plain": [
              "<IPython.core.display.Javascript object>"
            ],
            "application/javascript": [
              "download(\"download_db15b2a6-0952-4b40-839c-69b719fb8b89\", \"files_to_download.zip\", 22)"
            ]
          },
          "metadata": {}
        },
        {
          "output_type": "stream",
          "name": "stdout",
          "text": [
            "Combining:\n",
            "01-long_speech_male_18s.wav\n"
          ]
        },
        {
          "output_type": "display_data",
          "data": {
            "text/plain": [
              "<IPython.core.display.Javascript object>"
            ],
            "application/javascript": [
              "\n",
              "    async function download(id, filename, size) {\n",
              "      if (!google.colab.kernel.accessAllowed) {\n",
              "        return;\n",
              "      }\n",
              "      const div = document.createElement('div');\n",
              "      const label = document.createElement('label');\n",
              "      label.textContent = `Downloading \"${filename}\": `;\n",
              "      div.appendChild(label);\n",
              "      const progress = document.createElement('progress');\n",
              "      progress.max = size;\n",
              "      div.appendChild(progress);\n",
              "      document.body.appendChild(div);\n",
              "\n",
              "      const buffers = [];\n",
              "      let downloaded = 0;\n",
              "\n",
              "      const channel = await google.colab.kernel.comms.open(id);\n",
              "      // Send a message to notify the kernel that we're ready.\n",
              "      channel.send({})\n",
              "\n",
              "      for await (const message of channel.messages) {\n",
              "        // Send a message to notify the kernel that we're ready.\n",
              "        channel.send({})\n",
              "        if (message.buffers) {\n",
              "          for (const buffer of message.buffers) {\n",
              "            buffers.push(buffer);\n",
              "            downloaded += buffer.byteLength;\n",
              "            progress.value = downloaded;\n",
              "          }\n",
              "        }\n",
              "      }\n",
              "      const blob = new Blob(buffers, {type: 'application/binary'});\n",
              "      const a = document.createElement('a');\n",
              "      a.href = window.URL.createObjectURL(blob);\n",
              "      a.download = filename;\n",
              "      div.appendChild(a);\n",
              "      a.click();\n",
              "      div.remove();\n",
              "    }\n",
              "  "
            ]
          },
          "metadata": {}
        },
        {
          "output_type": "display_data",
          "data": {
            "text/plain": [
              "<IPython.core.display.Javascript object>"
            ],
            "application/javascript": [
              "download(\"download_6e3c4162-8533-4e2d-abc0-68bdbc268b8d\", \"files_to_download.zip\", 8451339)"
            ]
          },
          "metadata": {}
        }
      ]
    },
    {
      "cell_type": "markdown",
      "source": [],
      "metadata": {
        "id": "q3t9QHJCl2jn"
      }
    },
    {
      "cell_type": "code",
      "source": [
        "shutil.rmtree('/content/files_to_download')  # Delete the directory\n",
        "os.remove('/content/files_to_download.zip')  # Delete the zip file"
      ],
      "metadata": {
        "id": "It7rfGHKmBRy"
      },
      "execution_count": 92,
      "outputs": []
    },
    {
      "cell_type": "markdown",
      "source": [],
      "metadata": {
        "id": "O7FqpOBrmBA-"
      }
    }
  ]
}